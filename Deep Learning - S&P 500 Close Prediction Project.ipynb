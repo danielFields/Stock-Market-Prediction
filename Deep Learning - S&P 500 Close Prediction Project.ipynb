{
 "cells": [
  {
   "cell_type": "markdown",
   "metadata": {},
   "source": [
    "# Deep Learning - S&P 500 Close Prediction Project\n",
    "\n",
    "### Daniel Fields - Spring 2018\n",
    "   \n",
    "This project was done in participation for the ERP PREDICTION CONTEST hosted through University of California, Santa Barbara's Probability and Statistics Department that took place on February 15, 2019 - May 15, 2019. In this competion, the competitors were given a dataset of many Market Indicators, and the task was to predict the 2019 S&P 500 prices 5 days in advance. \n",
    "\n",
    "In my teams project, we worked on Vector Error Correction Models, Aggregate Linear Models, and Deep Learning models to predict the S&P 500 close price for 2019 with each team member assesing the vability of a given model class. My team ended up not wanting to proceed with the competion, but I used the dataset and the knowledge I had gained in researching the viability of deep learning models to build a LSTM model to predict S&P 500 close. Below is my personal effort to create a LSTM and asses its fit on the training set. \n",
    "\n",
    "Note: This project should have a test set and accuracy assement of the predictions produced, but as I was wokring with an already-made dataset of market measures and I did not know how to obtain all of those indicators. So, I decided instead to split the training set into a small test set and a training set, even though the goal of this was originally to use 2018 data to predict 2019. "
   ]
  },
  {
   "cell_type": "code",
   "execution_count": 9,
   "metadata": {},
   "outputs": [],
   "source": [
    "# Make sure that you have all these libaries available to run the code successfully\n",
    "import matplotlib.pyplot as plt\n",
    "import pandas as pd\n",
    "import datetime as dt\n",
    "import os\n",
    "import seaborn as sns\n",
    "import numpy as np\n",
    "import tensorflow as tf # This code has been tested with TensorFlow 1.6\n",
    "from sklearn.preprocessing import MinMaxScaler\n",
    "\n",
    "from sklearn.model_selection import train_test_split\n",
    "from keras.models import Sequential\n",
    "from keras.layers import Dense\n",
    "from keras.layers import LSTM\n",
    "from keras.layers import Dropout\n",
    "from sklearn.preprocessing import MinMaxScaler\n",
    "\n",
    "from sklearn.metrics import mean_squared_error\n",
    "%matplotlib inline"
   ]
  },
  {
   "cell_type": "markdown",
   "metadata": {},
   "source": [
    "**Working Dataset Key**\n",
    "- data = orginal: (16612, 59)\n",
    "- data1 = removed all rows with `NA` for `ASPFWR5`: (14590, 55)\n",
    "- data2 = top 20 correlated variables that do not have NA's: (14590, 20)"
   ]
  },
  {
   "cell_type": "code",
   "execution_count": 10,
   "metadata": {},
   "outputs": [
    {
     "name": "stdout",
     "output_type": "stream",
     "text": [
      "<class 'pandas.core.frame.DataFrame'>\n",
      "RangeIndex: 14590 entries, 0 to 14589\n",
      "Data columns (total 55 columns):\n",
      "Date        14590 non-null object\n",
      "ASPFWR5     14590 non-null float64\n",
      "US10YR      13981 non-null float64\n",
      "EPS         14590 non-null float64\n",
      "PER         14590 non-null float64\n",
      "OPEN        14590 non-null float64\n",
      "HIGH        14590 non-null float64\n",
      "LOW         14590 non-null float64\n",
      "CLOSE       14590 non-null float64\n",
      "BDIY        8317 non-null float64\n",
      "VIX         7056 non-null float64\n",
      "PCR         5281 non-null float64\n",
      "MVOLE       3523 non-null float64\n",
      "DXY         11835 non-null float64\n",
      "ASP         14590 non-null float64\n",
      "ADVDECL     14590 non-null float64\n",
      "FEDFUNDS    14590 non-null float64\n",
      "NYSEADV     6951 non-null float64\n",
      "IC          6951 non-null float64\n",
      "BAA         14590 non-null float64\n",
      "NOS         12528 non-null float64\n",
      "BER         6951 non-null float64\n",
      "DVY         14590 non-null float64\n",
      "PTB         7035 non-null float64\n",
      "AAA         14590 non-null float64\n",
      "SI          14590 non-null float64\n",
      "URR         14590 non-null int64\n",
      "FOMC        14590 non-null int64\n",
      "PPIR        14590 non-null int64\n",
      "RV          8804 non-null float64\n",
      "LOAN        6951 non-null float64\n",
      "VVIX        2769 non-null float64\n",
      "NAPMNEWO    10718 non-null float64\n",
      "NAPMPRIC    10718 non-null float64\n",
      "NAPMPMI     10718 non-null float64\n",
      "US3M        14590 non-null float64\n",
      "DEL         7717 non-null float64\n",
      "BBY         14590 non-null float64\n",
      "HTIME       8797 non-null float64\n",
      "LTIME       8797 non-null float64\n",
      "TYVIX       3758 non-null float64\n",
      "PUC         6550 non-null float64\n",
      "CRP         14590 non-null float64\n",
      "TERM        13981 non-null float64\n",
      "UR          14549 non-null float64\n",
      "INDPRO      14590 non-null float64\n",
      "HS          14460 non-null float64\n",
      "VRP         7056 non-null float64\n",
      "CAPE        14590 non-null float64\n",
      "CATY        14590 non-null float64\n",
      "INF         14590 non-null float64\n",
      "SIM         14590 non-null int64\n",
      "TOM         14590 non-null int64\n",
      "RELINF      14590 non-null float64\n",
      "DTOM        14590 non-null int64\n",
      "dtypes: float64(48), int64(6), object(1)\n",
      "memory usage: 6.1+ MB\n"
     ]
    }
   ],
   "source": [
    "# Load Data\n",
    "data = pd.read_csv(\"dataset.csv\")\n",
    "# Find instance of last missing ASPFWR5 \n",
    "last_zero = np.max(np.where(pd.isnull(data[\"ASPFWR5\"]))) + 1\n",
    "# Select rows only with non missing ASPWR5 values\n",
    "data1 = data.iloc[last_zero:]\n",
    "#Drop columns with almost all missing values\n",
    "data1 = data1.drop([\"sentiment1\",\"sentiment2\",\"sentiment3\",\"Hulbert.sentiment\"], axis = 1)\n",
    "#Relabel indexes\n",
    "data1 = data1.reset_index(drop = True)\n",
    "#Format Dates\n",
    "data1 = data1.rename(columns = {\"Unnamed: 0\":\"Date\"})\n",
    "data1.info()"
   ]
  },
  {
   "cell_type": "markdown",
   "metadata": {},
   "source": [
    "## Feature Selection"
   ]
  },
  {
   "cell_type": "code",
   "execution_count": 11,
   "metadata": {},
   "outputs": [],
   "source": [
    "correlations_to_close = data1.corr(method ='pearson')[\"CLOSE\"]\n",
    "#Since Close price has a 100% correlation with itself, we will drop it from the feature correlation array\n",
    "correlations_to_close = correlations_to_close.drop(\"CLOSE\", axis = 0) "
   ]
  },
  {
   "cell_type": "code",
   "execution_count": 12,
   "metadata": {},
   "outputs": [
    {
     "data": {
      "text/html": [
       "<div>\n",
       "<style scoped>\n",
       "    .dataframe tbody tr th:only-of-type {\n",
       "        vertical-align: middle;\n",
       "    }\n",
       "\n",
       "    .dataframe tbody tr th {\n",
       "        vertical-align: top;\n",
       "    }\n",
       "\n",
       "    .dataframe thead th {\n",
       "        text-align: right;\n",
       "    }\n",
       "</style>\n",
       "<table border=\"1\" class=\"dataframe\">\n",
       "  <thead>\n",
       "    <tr style=\"text-align: right;\">\n",
       "      <th></th>\n",
       "      <th>Num_NA</th>\n",
       "      <th>corr</th>\n",
       "      <th>val_corr</th>\n",
       "    </tr>\n",
       "  </thead>\n",
       "  <tbody>\n",
       "    <tr>\n",
       "      <th>Date</th>\n",
       "      <td>0</td>\n",
       "      <td>NaN</td>\n",
       "      <td>NaN</td>\n",
       "    </tr>\n",
       "    <tr>\n",
       "      <th>ASPFWR5</th>\n",
       "      <td>0</td>\n",
       "      <td>0.004114</td>\n",
       "      <td>0.004114</td>\n",
       "    </tr>\n",
       "    <tr>\n",
       "      <th>US10YR</th>\n",
       "      <td>609</td>\n",
       "      <td>-0.651848</td>\n",
       "      <td>0.651848</td>\n",
       "    </tr>\n",
       "    <tr>\n",
       "      <th>EPS</th>\n",
       "      <td>0</td>\n",
       "      <td>0.941518</td>\n",
       "      <td>0.941518</td>\n",
       "    </tr>\n",
       "    <tr>\n",
       "      <th>PER</th>\n",
       "      <td>0</td>\n",
       "      <td>0.422391</td>\n",
       "      <td>0.422391</td>\n",
       "    </tr>\n",
       "  </tbody>\n",
       "</table>\n",
       "</div>"
      ],
      "text/plain": [
       "         Num_NA      corr  val_corr\n",
       "Date          0       NaN       NaN\n",
       "ASPFWR5       0  0.004114  0.004114\n",
       "US10YR      609 -0.651848  0.651848\n",
       "EPS           0  0.941518  0.941518\n",
       "PER           0  0.422391  0.422391"
      ]
     },
     "execution_count": 12,
     "metadata": {},
     "output_type": "execute_result"
    }
   ],
   "source": [
    "#Create a datframe to analyze features on\n",
    "    # we will select features based on (1) not having missing values and (2) being correlated to close price\n",
    "num_NA = pd.DataFrame()\n",
    "num_NA[\"Num_NA\"] = data1.isnull().sum(axis = 0)\n",
    "num_NA[\"corr\"] = correlations_to_close\n",
    "\n",
    "num_NA[\"val_corr\"] = np.abs(correlations_to_close)\n",
    "num_NA.head()"
   ]
  },
  {
   "cell_type": "code",
   "execution_count": 13,
   "metadata": {},
   "outputs": [
    {
     "data": {
      "text/plain": [
       "Text(0.5, 1.0, 'Which variables should we use?')"
      ]
     },
     "execution_count": 13,
     "metadata": {},
     "output_type": "execute_result"
    },
    {
     "data": {
      "image/png": "[encoded data removed]",
      "text/plain": [
       "<Figure size 432x288 with 1 Axes>"
      ]
     },
     "metadata": {
      "needs_background": "light"
     },
     "output_type": "display_data"
    }
   ],
   "source": [
    "plt.scatter(y = num_NA[\"Num_NA\"],x = num_NA[\"corr\"], c = num_NA[\"val_corr\"])\n",
    "plt.ylabel(\"Number of Missing Observations\")\n",
    "plt.xlabel(\"Correlation to SP 500 CLOSE Price\")\n",
    "plt.title(\"Which variables should we use?\")"
   ]
  },
  {
   "cell_type": "markdown",
   "metadata": {},
   "source": [
    "Going to use variables that are complete and have greater than 10% correlation to S&P 500 Close price."
   ]
  },
  {
   "cell_type": "code",
   "execution_count": 14,
   "metadata": {},
   "outputs": [
    {
     "data": {
      "text/html": [
       "<div>\n",
       "<style scoped>\n",
       "    .dataframe tbody tr th:only-of-type {\n",
       "        vertical-align: middle;\n",
       "    }\n",
       "\n",
       "    .dataframe tbody tr th {\n",
       "        vertical-align: top;\n",
       "    }\n",
       "\n",
       "    .dataframe thead th {\n",
       "        text-align: right;\n",
       "    }\n",
       "</style>\n",
       "<table border=\"1\" class=\"dataframe\">\n",
       "  <thead>\n",
       "    <tr style=\"text-align: right;\">\n",
       "      <th></th>\n",
       "      <th>Num_NA</th>\n",
       "      <th>corr</th>\n",
       "      <th>val_corr</th>\n",
       "    </tr>\n",
       "  </thead>\n",
       "  <tbody>\n",
       "    <tr>\n",
       "      <th>EPS</th>\n",
       "      <td>0</td>\n",
       "      <td>0.941518</td>\n",
       "      <td>0.941518</td>\n",
       "    </tr>\n",
       "    <tr>\n",
       "      <th>PER</th>\n",
       "      <td>0</td>\n",
       "      <td>0.422391</td>\n",
       "      <td>0.422391</td>\n",
       "    </tr>\n",
       "    <tr>\n",
       "      <th>OPEN</th>\n",
       "      <td>0</td>\n",
       "      <td>0.999910</td>\n",
       "      <td>0.999910</td>\n",
       "    </tr>\n",
       "    <tr>\n",
       "      <th>HIGH</th>\n",
       "      <td>0</td>\n",
       "      <td>0.999956</td>\n",
       "      <td>0.999956</td>\n",
       "    </tr>\n",
       "    <tr>\n",
       "      <th>LOW</th>\n",
       "      <td>0</td>\n",
       "      <td>0.999958</td>\n",
       "      <td>0.999958</td>\n",
       "    </tr>\n",
       "    <tr>\n",
       "      <th>ASP</th>\n",
       "      <td>0</td>\n",
       "      <td>0.991270</td>\n",
       "      <td>0.991270</td>\n",
       "    </tr>\n",
       "    <tr>\n",
       "      <th>ADVDECL</th>\n",
       "      <td>0</td>\n",
       "      <td>0.796050</td>\n",
       "      <td>0.796050</td>\n",
       "    </tr>\n",
       "    <tr>\n",
       "      <th>FEDFUNDS</th>\n",
       "      <td>0</td>\n",
       "      <td>-0.575024</td>\n",
       "      <td>0.575024</td>\n",
       "    </tr>\n",
       "    <tr>\n",
       "      <th>BAA</th>\n",
       "      <td>0</td>\n",
       "      <td>-0.480811</td>\n",
       "      <td>0.480811</td>\n",
       "    </tr>\n",
       "    <tr>\n",
       "      <th>DVY</th>\n",
       "      <td>0</td>\n",
       "      <td>-0.722279</td>\n",
       "      <td>0.722279</td>\n",
       "    </tr>\n",
       "    <tr>\n",
       "      <th>AAA</th>\n",
       "      <td>0</td>\n",
       "      <td>-0.510886</td>\n",
       "      <td>0.510886</td>\n",
       "    </tr>\n",
       "    <tr>\n",
       "      <th>SI</th>\n",
       "      <td>0</td>\n",
       "      <td>0.682373</td>\n",
       "      <td>0.682373</td>\n",
       "    </tr>\n",
       "    <tr>\n",
       "      <th>URR</th>\n",
       "      <td>0</td>\n",
       "      <td>0.127769</td>\n",
       "      <td>0.127769</td>\n",
       "    </tr>\n",
       "    <tr>\n",
       "      <th>PPIR</th>\n",
       "      <td>0</td>\n",
       "      <td>0.130339</td>\n",
       "      <td>0.130339</td>\n",
       "    </tr>\n",
       "    <tr>\n",
       "      <th>US3M</th>\n",
       "      <td>0</td>\n",
       "      <td>-0.607621</td>\n",
       "      <td>0.607621</td>\n",
       "    </tr>\n",
       "    <tr>\n",
       "      <th>BBY</th>\n",
       "      <td>0</td>\n",
       "      <td>0.811481</td>\n",
       "      <td>0.811481</td>\n",
       "    </tr>\n",
       "    <tr>\n",
       "      <th>INDPRO</th>\n",
       "      <td>0</td>\n",
       "      <td>0.916370</td>\n",
       "      <td>0.916370</td>\n",
       "    </tr>\n",
       "    <tr>\n",
       "      <th>CAPE</th>\n",
       "      <td>0</td>\n",
       "      <td>0.667726</td>\n",
       "      <td>0.667726</td>\n",
       "    </tr>\n",
       "    <tr>\n",
       "      <th>CATY</th>\n",
       "      <td>0</td>\n",
       "      <td>0.215038</td>\n",
       "      <td>0.215038</td>\n",
       "    </tr>\n",
       "    <tr>\n",
       "      <th>INF</th>\n",
       "      <td>0</td>\n",
       "      <td>-0.441912</td>\n",
       "      <td>0.441912</td>\n",
       "    </tr>\n",
       "  </tbody>\n",
       "</table>\n",
       "</div>"
      ],
      "text/plain": [
       "          Num_NA      corr  val_corr\n",
       "EPS            0  0.941518  0.941518\n",
       "PER            0  0.422391  0.422391\n",
       "OPEN           0  0.999910  0.999910\n",
       "HIGH           0  0.999956  0.999956\n",
       "LOW            0  0.999958  0.999958\n",
       "ASP            0  0.991270  0.991270\n",
       "ADVDECL        0  0.796050  0.796050\n",
       "FEDFUNDS       0 -0.575024  0.575024\n",
       "BAA            0 -0.480811  0.480811\n",
       "DVY            0 -0.722279  0.722279\n",
       "AAA            0 -0.510886  0.510886\n",
       "SI             0  0.682373  0.682373\n",
       "URR            0  0.127769  0.127769\n",
       "PPIR           0  0.130339  0.130339\n",
       "US3M           0 -0.607621  0.607621\n",
       "BBY            0  0.811481  0.811481\n",
       "INDPRO         0  0.916370  0.916370\n",
       "CAPE           0  0.667726  0.667726\n",
       "CATY           0  0.215038  0.215038\n",
       "INF            0 -0.441912  0.441912"
      ]
     },
     "execution_count": 14,
     "metadata": {},
     "output_type": "execute_result"
    }
   ],
   "source": [
    "variables_selected = num_NA.query(\"Num_NA ==0\").query(\"val_corr > 0.1\")\n",
    "variables_selected"
   ]
  },
  {
   "cell_type": "code",
   "execution_count": 15,
   "metadata": {},
   "outputs": [
    {
     "data": {
      "text/html": [
       "<div>\n",
       "<style scoped>\n",
       "    .dataframe tbody tr th:only-of-type {\n",
       "        vertical-align: middle;\n",
       "    }\n",
       "\n",
       "    .dataframe tbody tr th {\n",
       "        vertical-align: top;\n",
       "    }\n",
       "\n",
       "    .dataframe thead th {\n",
       "        text-align: right;\n",
       "    }\n",
       "</style>\n",
       "<table border=\"1\" class=\"dataframe\">\n",
       "  <thead>\n",
       "    <tr style=\"text-align: right;\">\n",
       "      <th></th>\n",
       "      <th>EPS</th>\n",
       "      <th>PER</th>\n",
       "      <th>OPEN</th>\n",
       "      <th>HIGH</th>\n",
       "      <th>LOW</th>\n",
       "      <th>ASP</th>\n",
       "      <th>ADVDECL</th>\n",
       "      <th>FEDFUNDS</th>\n",
       "      <th>BAA</th>\n",
       "      <th>DVY</th>\n",
       "      <th>...</th>\n",
       "      <th>SI</th>\n",
       "      <th>URR</th>\n",
       "      <th>PPIR</th>\n",
       "      <th>US3M</th>\n",
       "      <th>BBY</th>\n",
       "      <th>INDPRO</th>\n",
       "      <th>CAPE</th>\n",
       "      <th>CATY</th>\n",
       "      <th>INF</th>\n",
       "      <th>CLOSE</th>\n",
       "    </tr>\n",
       "  </thead>\n",
       "  <tbody>\n",
       "    <tr>\n",
       "      <th>0</th>\n",
       "      <td>3.39</td>\n",
       "      <td>17.221239</td>\n",
       "      <td>58.38</td>\n",
       "      <td>58.38</td>\n",
       "      <td>58.38</td>\n",
       "      <td>1.020065</td>\n",
       "      <td>0.0</td>\n",
       "      <td>4.0</td>\n",
       "      <td>5.34</td>\n",
       "      <td>0.031739</td>\n",
       "      <td>...</td>\n",
       "      <td>0.95</td>\n",
       "      <td>0</td>\n",
       "      <td>0</td>\n",
       "      <td>4.49</td>\n",
       "      <td>0.0</td>\n",
       "      <td>221.264931</td>\n",
       "      <td>18.393526</td>\n",
       "      <td>32.985615</td>\n",
       "      <td>0.015074</td>\n",
       "      <td>58.38</td>\n",
       "    </tr>\n",
       "    <tr>\n",
       "      <th>1</th>\n",
       "      <td>3.39</td>\n",
       "      <td>17.076696</td>\n",
       "      <td>57.89</td>\n",
       "      <td>57.89</td>\n",
       "      <td>57.89</td>\n",
       "      <td>1.011635</td>\n",
       "      <td>0.0</td>\n",
       "      <td>4.0</td>\n",
       "      <td>5.34</td>\n",
       "      <td>0.032014</td>\n",
       "      <td>...</td>\n",
       "      <td>0.95</td>\n",
       "      <td>0</td>\n",
       "      <td>0</td>\n",
       "      <td>4.37</td>\n",
       "      <td>0.0</td>\n",
       "      <td>221.264931</td>\n",
       "      <td>18.238151</td>\n",
       "      <td>32.707524</td>\n",
       "      <td>0.015074</td>\n",
       "      <td>57.89</td>\n",
       "    </tr>\n",
       "    <tr>\n",
       "      <th>2</th>\n",
       "      <td>3.39</td>\n",
       "      <td>16.893805</td>\n",
       "      <td>57.27</td>\n",
       "      <td>57.27</td>\n",
       "      <td>57.27</td>\n",
       "      <td>1.000931</td>\n",
       "      <td>0.0</td>\n",
       "      <td>4.0</td>\n",
       "      <td>5.34</td>\n",
       "      <td>0.032367</td>\n",
       "      <td>...</td>\n",
       "      <td>0.95</td>\n",
       "      <td>0</td>\n",
       "      <td>0</td>\n",
       "      <td>4.31</td>\n",
       "      <td>0.0</td>\n",
       "      <td>221.264931</td>\n",
       "      <td>18.041839</td>\n",
       "      <td>32.356003</td>\n",
       "      <td>0.015074</td>\n",
       "      <td>57.27</td>\n",
       "    </tr>\n",
       "    <tr>\n",
       "      <th>3</th>\n",
       "      <td>3.39</td>\n",
       "      <td>16.834808</td>\n",
       "      <td>57.07</td>\n",
       "      <td>57.07</td>\n",
       "      <td>57.07</td>\n",
       "      <td>0.997567</td>\n",
       "      <td>0.0</td>\n",
       "      <td>4.0</td>\n",
       "      <td>5.34</td>\n",
       "      <td>0.032487</td>\n",
       "      <td>...</td>\n",
       "      <td>0.95</td>\n",
       "      <td>0</td>\n",
       "      <td>0</td>\n",
       "      <td>4.30</td>\n",
       "      <td>0.0</td>\n",
       "      <td>221.264931</td>\n",
       "      <td>17.977855</td>\n",
       "      <td>32.241784</td>\n",
       "      <td>0.015074</td>\n",
       "      <td>57.07</td>\n",
       "    </tr>\n",
       "    <tr>\n",
       "      <th>4</th>\n",
       "      <td>3.39</td>\n",
       "      <td>16.876106</td>\n",
       "      <td>57.21</td>\n",
       "      <td>57.21</td>\n",
       "      <td>57.21</td>\n",
       "      <td>1.000145</td>\n",
       "      <td>0.0</td>\n",
       "      <td>4.0</td>\n",
       "      <td>5.34</td>\n",
       "      <td>0.032413</td>\n",
       "      <td>...</td>\n",
       "      <td>0.95</td>\n",
       "      <td>0</td>\n",
       "      <td>0</td>\n",
       "      <td>4.27</td>\n",
       "      <td>0.0</td>\n",
       "      <td>221.264931</td>\n",
       "      <td>18.020979</td>\n",
       "      <td>32.319646</td>\n",
       "      <td>0.015074</td>\n",
       "      <td>57.21</td>\n",
       "    </tr>\n",
       "  </tbody>\n",
       "</table>\n",
       "<p>5 rows × 21 columns</p>\n",
       "</div>"
      ],
      "text/plain": [
       "    EPS        PER   OPEN   HIGH    LOW       ASP  ADVDECL  FEDFUNDS   BAA  \\\n",
       "0  3.39  17.221239  58.38  58.38  58.38  1.020065      0.0       4.0  5.34   \n",
       "1  3.39  17.076696  57.89  57.89  57.89  1.011635      0.0       4.0  5.34   \n",
       "2  3.39  16.893805  57.27  57.27  57.27  1.000931      0.0       4.0  5.34   \n",
       "3  3.39  16.834808  57.07  57.07  57.07  0.997567      0.0       4.0  5.34   \n",
       "4  3.39  16.876106  57.21  57.21  57.21  1.000145      0.0       4.0  5.34   \n",
       "\n",
       "        DVY  ...    SI  URR  PPIR  US3M  BBY      INDPRO       CAPE  \\\n",
       "0  0.031739  ...  0.95    0     0  4.49  0.0  221.264931  18.393526   \n",
       "1  0.032014  ...  0.95    0     0  4.37  0.0  221.264931  18.238151   \n",
       "2  0.032367  ...  0.95    0     0  4.31  0.0  221.264931  18.041839   \n",
       "3  0.032487  ...  0.95    0     0  4.30  0.0  221.264931  17.977855   \n",
       "4  0.032413  ...  0.95    0     0  4.27  0.0  221.264931  18.020979   \n",
       "\n",
       "        CATY       INF  CLOSE  \n",
       "0  32.985615  0.015074  58.38  \n",
       "1  32.707524  0.015074  57.89  \n",
       "2  32.356003  0.015074  57.27  \n",
       "3  32.241784  0.015074  57.07  \n",
       "4  32.319646  0.015074  57.21  \n",
       "\n",
       "[5 rows x 21 columns]"
      ]
     },
     "execution_count": 15,
     "metadata": {},
     "output_type": "execute_result"
    }
   ],
   "source": [
    "data2 = data1[list(variables_selected.index) + [\"CLOSE\"]]\n",
    "data2.head()"
   ]
  },
  {
   "cell_type": "markdown",
   "metadata": {},
   "source": [
    "## Preproccesing\n",
    "- Scale Data\n",
    "- Split the data into train and test splits\n",
    "- Standardize the data between -1 and 1"
   ]
  },
  {
   "cell_type": "code",
   "execution_count": 46,
   "metadata": {},
   "outputs": [],
   "source": [
    "#scaler = MinMaxScaler()\n",
    "#X_scaled = scaler.fit_transform(X)\n",
    "\n",
    "#80-20 Split\n",
    "X_trn = X.head(int(0.8*14590)).values.reshape(int(0.8*14590),20,1)\n",
    "X_tst = X.tail(int(0.2*14590)).values.reshape(int(0.2*14590),20,1)\n",
    "\n",
    "y_trn = y.head(int(0.8*14590)).values\n",
    "y_tst = y.tail(int(0.2*14590)).values"
   ]
  },
  {
   "cell_type": "markdown",
   "metadata": {},
   "source": [
    "# LSTM \n",
    "## Keras\n",
    "\n",
    "Input Shape Notes: https://machinelearningmastery.com/reshape-input-data-long-short-term-memory-networks-keras/\n",
    "- The input to every LSTM layer must be three-dimensional.\n",
    "    1. Samples. One sequence is one sample. A batch is comprised of one or more samples.\n",
    "    2. Time Steps. One time step is one point of observation in the sample.\n",
    "    3. Features. One feature is one observation at a time step"
   ]
  },
  {
   "cell_type": "markdown",
   "metadata": {},
   "source": [
    "# Tensoflow 2.0 Model Implentation through Keras"
   ]
  },
  {
   "cell_type": "code",
   "execution_count": 47,
   "metadata": {},
   "outputs": [],
   "source": [
    "from __future__ import absolute_import, division, print_function, unicode_literals"
   ]
  },
  {
   "cell_type": "markdown",
   "metadata": {},
   "source": [
    "### Build Model Architecture"
   ]
  },
  {
   "cell_type": "code",
   "execution_count": 248,
   "metadata": {},
   "outputs": [
    {
     "name": "stdout",
     "output_type": "stream",
     "text": [
      "_________________________________________________________________\n",
      "Layer (type)                 Output Shape              Param #   \n",
      "=================================================================\n",
      "dense_97 (Dense)             (None, None, 20)          40        \n",
      "_________________________________________________________________\n",
      "dropout_64 (Dropout)         (None, None, 20)          0         \n",
      "_________________________________________________________________\n",
      "lstm_60 (LSTM)               (None, 14)                1960      \n",
      "_________________________________________________________________\n",
      "dense_98 (Dense)             (None, 5)                 75        \n",
      "_________________________________________________________________\n",
      "dropout_65 (Dropout)         (None, 5)                 0         \n",
      "_________________________________________________________________\n",
      "dense_99 (Dense)             (None, 1)                 6         \n",
      "=================================================================\n",
      "Total params: 2,081\n",
      "Trainable params: 2,081\n",
      "Non-trainable params: 0\n",
      "_________________________________________________________________\n"
     ]
    }
   ],
   "source": [
    "lstm1 = Sequential()\n",
    "lstm1.add(Dense(X_trn.shape[1], activation = \"sigmoid\", input_shape=(None, X_trn.shape[2])))\n",
    "lstm1.add(Dropout(0.4))\n",
    "lstm1.add(LSTM(14, activation = \"softmax\", return_sequences = False))\n",
    "lstm1.add(Dense(5))\n",
    "#lstm1.add(LSTM(14, return_sequences = True))\n",
    "lstm1.add(Dropout(0.4))\n",
    "lstm1.add(Dense(1,input_shape = (None,1)))\n",
    "lstm1.compile(loss = \"mean_squared_error\", optimizer = \"adam\",metrics = [\"mean_squared_error\"])\n",
    "lstm1.summary()"
   ]
  },
  {
   "cell_type": "markdown",
   "metadata": {},
   "source": [
    "### Fit the model"
   ]
  },
  {
   "cell_type": "code",
   "execution_count": 208,
   "metadata": {},
   "outputs": [
    {
     "name": "stdout",
     "output_type": "stream",
     "text": [
      "Train on 9337 samples, validate on 2335 samples\n",
      "Epoch 1/50\n",
      " - 3s - loss: 7256.3926 - mean_squared_error: 7256.3926 - val_loss: 8580.0731 - val_mean_squared_error: 8580.0731\n",
      "Epoch 2/50\n",
      " - 1s - loss: 6887.1331 - mean_squared_error: 6887.1331 - val_loss: 5907.6099 - val_mean_squared_error: 5907.6099\n",
      "Epoch 3/50\n",
      " - 1s - loss: 6822.0186 - mean_squared_error: 6822.0186 - val_loss: 10913.7175 - val_mean_squared_error: 10913.7175\n",
      "Epoch 4/50\n",
      " - 1s - loss: 6750.9124 - mean_squared_error: 6750.9124 - val_loss: 10213.2809 - val_mean_squared_error: 10213.2809\n",
      "Epoch 5/50\n",
      " - 1s - loss: 6971.6568 - mean_squared_error: 6971.6568 - val_loss: 7187.8468 - val_mean_squared_error: 7187.8468\n",
      "Epoch 6/50\n",
      " - 1s - loss: 6732.7679 - mean_squared_error: 6732.7679 - val_loss: 10959.2326 - val_mean_squared_error: 10959.2326\n",
      "Epoch 7/50\n",
      " - 1s - loss: 7017.6286 - mean_squared_error: 7017.6286 - val_loss: 14293.6856 - val_mean_squared_error: 14293.6856\n",
      "Epoch 8/50\n",
      " - 1s - loss: 6849.2065 - mean_squared_error: 6849.2065 - val_loss: 12234.9759 - val_mean_squared_error: 12234.9759\n",
      "Epoch 9/50\n",
      " - 1s - loss: 6813.4731 - mean_squared_error: 6813.4731 - val_loss: 13505.6104 - val_mean_squared_error: 13505.6104\n",
      "Epoch 10/50\n",
      " - 1s - loss: 6825.3951 - mean_squared_error: 6825.3951 - val_loss: 10403.9530 - val_mean_squared_error: 10403.9530\n",
      "Epoch 11/50\n",
      " - 1s - loss: 6729.1009 - mean_squared_error: 6729.1009 - val_loss: 10828.1868 - val_mean_squared_error: 10828.1868\n",
      "Epoch 12/50\n",
      " - 1s - loss: 6419.0548 - mean_squared_error: 6419.0548 - val_loss: 10212.5236 - val_mean_squared_error: 10212.5236\n",
      "Epoch 13/50\n",
      " - 1s - loss: 6515.4908 - mean_squared_error: 6515.4908 - val_loss: 8115.4308 - val_mean_squared_error: 8115.4308\n",
      "Epoch 14/50\n",
      " - 1s - loss: 6898.5019 - mean_squared_error: 6898.5019 - val_loss: 7683.8995 - val_mean_squared_error: 7683.8995\n",
      "Epoch 15/50\n",
      " - 1s - loss: 7352.6500 - mean_squared_error: 7352.6500 - val_loss: 10519.8788 - val_mean_squared_error: 10519.8788\n",
      "Epoch 16/50\n",
      " - 1s - loss: 6722.7579 - mean_squared_error: 6722.7579 - val_loss: 9582.2486 - val_mean_squared_error: 9582.2486\n",
      "Epoch 17/50\n",
      " - 1s - loss: 6793.6191 - mean_squared_error: 6793.6191 - val_loss: 17376.1691 - val_mean_squared_error: 17376.1691\n",
      "Epoch 18/50\n",
      " - 1s - loss: 6888.6561 - mean_squared_error: 6888.6561 - val_loss: 11173.9511 - val_mean_squared_error: 11173.9511\n",
      "Epoch 19/50\n",
      " - 1s - loss: 7125.7380 - mean_squared_error: 7125.7380 - val_loss: 7668.6137 - val_mean_squared_error: 7668.6137\n",
      "Epoch 20/50\n",
      " - 1s - loss: 6658.5691 - mean_squared_error: 6658.5691 - val_loss: 6689.7638 - val_mean_squared_error: 6689.7638\n",
      "Epoch 21/50\n",
      " - 1s - loss: 6413.7222 - mean_squared_error: 6413.7222 - val_loss: 8367.2412 - val_mean_squared_error: 8367.2412\n",
      "Epoch 22/50\n",
      " - 1s - loss: 6672.5031 - mean_squared_error: 6672.5031 - val_loss: 11795.5623 - val_mean_squared_error: 11795.5623\n",
      "Epoch 23/50\n",
      " - 1s - loss: 6737.2384 - mean_squared_error: 6737.2384 - val_loss: 8789.2204 - val_mean_squared_error: 8789.2204\n",
      "Epoch 24/50\n",
      " - 1s - loss: 6769.8793 - mean_squared_error: 6769.8793 - val_loss: 8010.2352 - val_mean_squared_error: 8010.2352\n",
      "Epoch 25/50\n",
      " - 1s - loss: 6878.1792 - mean_squared_error: 6878.1792 - val_loss: 9640.5815 - val_mean_squared_error: 9640.5815\n",
      "Epoch 26/50\n",
      " - 1s - loss: 6969.7149 - mean_squared_error: 6969.7149 - val_loss: 5402.9967 - val_mean_squared_error: 5402.9967\n",
      "Epoch 27/50\n",
      " - 1s - loss: 6726.9964 - mean_squared_error: 6726.9964 - val_loss: 7434.1704 - val_mean_squared_error: 7434.1704\n",
      "Epoch 28/50\n",
      " - 1s - loss: 6501.8159 - mean_squared_error: 6501.8159 - val_loss: 10329.2620 - val_mean_squared_error: 10329.2620\n",
      "Epoch 29/50\n",
      " - 1s - loss: 6769.6818 - mean_squared_error: 6769.6818 - val_loss: 8259.2729 - val_mean_squared_error: 8259.2729\n",
      "Epoch 30/50\n",
      " - 1s - loss: 6703.3013 - mean_squared_error: 6703.3013 - val_loss: 2163.6006 - val_mean_squared_error: 2163.6006\n",
      "Epoch 31/50\n",
      " - 1s - loss: 6548.2017 - mean_squared_error: 6548.2017 - val_loss: 3531.3871 - val_mean_squared_error: 3531.3871\n",
      "Epoch 32/50\n",
      " - 1s - loss: 6915.1515 - mean_squared_error: 6915.1515 - val_loss: 9409.0042 - val_mean_squared_error: 9409.0042\n",
      "Epoch 33/50\n",
      " - 1s - loss: 6793.9638 - mean_squared_error: 6793.9638 - val_loss: 9195.0416 - val_mean_squared_error: 9195.0416\n",
      "Epoch 34/50\n",
      " - 1s - loss: 6437.8581 - mean_squared_error: 6437.8581 - val_loss: 7684.3906 - val_mean_squared_error: 7684.3906\n",
      "Epoch 35/50\n",
      " - 1s - loss: 6809.0193 - mean_squared_error: 6809.0193 - val_loss: 7386.2157 - val_mean_squared_error: 7386.2157\n",
      "Epoch 36/50\n",
      " - 1s - loss: 6715.8016 - mean_squared_error: 6715.8016 - val_loss: 8698.5324 - val_mean_squared_error: 8698.5324\n",
      "Epoch 37/50\n",
      " - 1s - loss: 6536.5512 - mean_squared_error: 6536.5512 - val_loss: 8326.3517 - val_mean_squared_error: 8326.3517\n",
      "Epoch 38/50\n",
      " - 1s - loss: 6696.8785 - mean_squared_error: 6696.8785 - val_loss: 12839.9739 - val_mean_squared_error: 12839.9739\n",
      "Epoch 39/50\n",
      " - 1s - loss: 6697.9224 - mean_squared_error: 6697.9224 - val_loss: 10746.9048 - val_mean_squared_error: 10746.9048\n",
      "Epoch 40/50\n",
      " - 1s - loss: 6694.4535 - mean_squared_error: 6694.4535 - val_loss: 8917.0331 - val_mean_squared_error: 8917.0331\n",
      "Epoch 41/50\n",
      " - 1s - loss: 6477.3009 - mean_squared_error: 6477.3009 - val_loss: 5599.2324 - val_mean_squared_error: 5599.2324\n",
      "Epoch 42/50\n",
      " - 1s - loss: 6662.2633 - mean_squared_error: 6662.2633 - val_loss: 3653.8235 - val_mean_squared_error: 3653.8235\n",
      "Epoch 43/50\n",
      " - 1s - loss: 6766.1823 - mean_squared_error: 6766.1823 - val_loss: 8241.2467 - val_mean_squared_error: 8241.2467\n",
      "Epoch 44/50\n",
      " - 1s - loss: 7298.6859 - mean_squared_error: 7298.6859 - val_loss: 9274.0216 - val_mean_squared_error: 9274.0216\n",
      "Epoch 45/50\n",
      " - 1s - loss: 7008.4600 - mean_squared_error: 7008.4600 - val_loss: 6260.6806 - val_mean_squared_error: 6260.6806\n",
      "Epoch 46/50\n",
      " - 1s - loss: 6615.6862 - mean_squared_error: 6615.6862 - val_loss: 7311.5287 - val_mean_squared_error: 7311.5287\n",
      "Epoch 47/50\n",
      " - 1s - loss: 6896.1249 - mean_squared_error: 6896.1249 - val_loss: 8575.4678 - val_mean_squared_error: 8575.4678\n",
      "Epoch 48/50\n",
      " - 1s - loss: 6784.7268 - mean_squared_error: 6784.7268 - val_loss: 10148.2725 - val_mean_squared_error: 10148.2725\n",
      "Epoch 49/50\n",
      " - 1s - loss: 6407.0096 - mean_squared_error: 6407.0096 - val_loss: 10091.4850 - val_mean_squared_error: 10091.4850\n",
      "Epoch 50/50\n",
      " - 1s - loss: 6622.5052 - mean_squared_error: 6622.5052 - val_loss: 6408.9015 - val_mean_squared_error: 6408.9015\n"
     ]
    }
   ],
   "source": [
    "fit_norm = lstm1.fit(X_trn, y_trn, validation_split = 0.2, batch_size = 1459, epochs = 50, verbose = 2)"
   ]
  },
  {
   "cell_type": "markdown",
   "metadata": {},
   "source": [
    "### Analyze Training\n",
    " _Note: We do not observe convergence, but after testing predictions I deemed the fit to be satisfactory and to avoid overfitting I stopped training after 50 epochs and using validation testing throughout._"
   ]
  },
  {
   "cell_type": "code",
   "execution_count": 211,
   "metadata": {},
   "outputs": [
    {
     "data": {
      "text/plain": [
       "Text(0.5, 1.0, 'Training')"
      ]
     },
     "execution_count": 211,
     "metadata": {},
     "output_type": "execute_result"
    },
    {
     "data": {
      "image/png": "[encoded data removed]",
      "text/plain": [
       "<Figure size 432x288 with 1 Axes>"
      ]
     },
     "metadata": {
      "needs_background": "light"
     },
     "output_type": "display_data"
    }
   ],
   "source": [
    "plt.plot(fit_norm.history[\"mean_squared_error\"])\n",
    "plt.xlabel(\"Epoch\")\n",
    "plt.ylabel(\"MSE\")\n",
    "plt.title(\"Training\")"
   ]
  },
  {
   "cell_type": "markdown",
   "metadata": {},
   "source": [
    "### Examine Predictions on the _Test Set_"
   ]
  },
  {
   "cell_type": "code",
   "execution_count": 212,
   "metadata": {},
   "outputs": [
    {
     "data": {
      "text/plain": [
       "<matplotlib.legend.Legend at 0x1a27c43438>"
      ]
     },
     "execution_count": 212,
     "metadata": {},
     "output_type": "execute_result"
    },
    {
     "data": {
      "image/png": "[encoded data removed]",
      "text/plain": [
       "<Figure size 432x288 with 1 Axes>"
      ]
     },
     "metadata": {
      "needs_background": "light"
     },
     "output_type": "display_data"
    }
   ],
   "source": [
    "preds = lstm1.predict(X_tst)\n",
    "\n",
    "plt.plot(preds, label = \"predicition\")\n",
    "plt.plot(y_tst, label = \"target\")\n",
    "plt.legend()"
   ]
  },
  {
   "cell_type": "markdown",
   "metadata": {},
   "source": [
    "Thank you for your time and attention. - Daniel Fields"
   ]
  }
 ],
 "metadata": {
  "kernelspec": {
   "display_name": "Python 3",
   "language": "python",
   "name": "python3"
  },
  "language_info": {
   "codemirror_mode": {
    "name": "ipython",
    "version": 3
   },
   "file_extension": ".py",
   "mimetype": "text/x-python",
   "name": "python",
   "nbconvert_exporter": "python",
   "pygments_lexer": "ipython3",
   "version": "3.6.8"
  }
 },
 "nbformat": 4,
 "nbformat_minor": 2
}
